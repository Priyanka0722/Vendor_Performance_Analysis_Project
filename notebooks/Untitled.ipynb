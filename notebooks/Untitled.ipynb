{
 "cells": [
  {
   "cell_type": "code",
   "execution_count": 3,
   "id": "587ff8d6-2827-4eaa-9ba2-55eac4ec70f7",
   "metadata": {},
   "outputs": [
    {
     "name": "stdout",
     "output_type": "stream",
     "text": [
      "Total rows in sales table: 12825363\n"
     ]
    }
   ],
   "source": [
    "import sqlite3\n",
    "import pandas as pd\n",
    "\n",
    "conn = sqlite3.connect(\"inventory.db\")\n",
    "sales_count = pd.read_sql_query(\"SELECT COUNT(*) AS count FROM sales\", conn)['count'].values[0]\n",
    "print(\"Total rows in sales table:\", sales_count)\n"
   ]
  },
  {
   "cell_type": "code",
   "execution_count": 1,
   "id": "6f7ec476-5c29-4f9f-a587-d77227f480fe",
   "metadata": {},
   "outputs": [
    {
     "name": "stdout",
     "output_type": "stream",
     "text": [
      "Completed ingestion of begin_inventory.csv\n",
      "Completed ingestion of end_inventory.csv\n",
      "Completed ingestion of purchases.csv\n",
      "Completed ingestion of purchase_prices.csv\n",
      "Completed ingestion of sales.csv\n",
      "Completed ingestion of vendor_invoice.csv\n",
      "Total Time Taken: 8.45 minutes\n"
     ]
    }
   ],
   "source": [
    "import pandas as pd\n",
    "import os\n",
    "from sqlalchemy import create_engine\n",
    "import logging\n",
    "import time\n",
    "\n",
    "# ------------------- Logging -------------------\n",
    "logging.basicConfig(\n",
    "    filename=\"logs/ingestion_db.log\",\n",
    "    level=logging.DEBUG,\n",
    "    format=\"%(asctime)s - %(levelname)s - %(message)s\",\n",
    "    filemode=\"a\"\n",
    ")\n",
    "\n",
    "# ------------------- Database -------------------\n",
    "engine = create_engine('sqlite:///inventory.db')\n",
    "\n",
    "# ------------------- Functions -------------------\n",
    "def ingest_db(df, table_name, engine, if_exists='replace'):\n",
    "    \"\"\"This function will ingest the dataframe into database table\"\"\"\n",
    "    df.to_sql(table_name, con=engine, if_exists=if_exists, index=False)\n",
    "\n",
    "def load_raw_data(chunk_size=100000):\n",
    "    \"\"\"This function will load the CSVs as dataframe and ingest into db in chunks\"\"\"\n",
    "    start = time.time()\n",
    "\n",
    "    for file in os.listdir('data'):\n",
    "        if file.endswith('.csv'):\n",
    "            file_path = os.path.join('data', file)\n",
    "            table_name = file[:-4]\n",
    "\n",
    "            logging.info(f\"Starting ingestion of {file}\")\n",
    "            first_chunk = True\n",
    "\n",
    "            # Read CSV in chunks\n",
    "            for i, chunk in enumerate(pd.read_csv(file_path, chunksize=chunk_size)):\n",
    "                logging.info(f\"Ingesting {file} - chunk {i+1}\")\n",
    "                if first_chunk:\n",
    "                    ingest_db(chunk, table_name, engine, if_exists='replace')\n",
    "                    first_chunk = False\n",
    "                else:\n",
    "                    ingest_db(chunk, table_name, engine, if_exists='append')\n",
    "\n",
    "            logging.info(f\"Completed ingestion of {file}\")\n",
    "            print(f\"Completed ingestion of {file}\")  # shows progress in Jupyter\n",
    "\n",
    "    end = time.time()\n",
    "    total_time = (end - start)/60\n",
    "    logging.info(\"----------Injection Complete----------\")\n",
    "    logging.info(f\"Total Time Taken: {total_time:.2f} minutes\")\n",
    "    print(f\"Total Time Taken: {total_time:.2f} minutes\")\n",
    "\n",
    "# ------------------- Run -------------------\n",
    "if __name__ == '__main__':\n",
    "    load_raw_data(chunk_size=100000)  # adjust chunk_size if needed\n"
   ]
  },
  {
   "cell_type": "code",
   "execution_count": null,
   "id": "edb1c30a-81e2-4dd6-80bc-80370ed7c243",
   "metadata": {},
   "outputs": [],
   "source": []
  }
 ],
 "metadata": {
  "kernelspec": {
   "display_name": "Python 3 (ipykernel)",
   "language": "python",
   "name": "python3"
  },
  "language_info": {
   "codemirror_mode": {
    "name": "ipython",
    "version": 3
   },
   "file_extension": ".py",
   "mimetype": "text/x-python",
   "name": "python",
   "nbconvert_exporter": "python",
   "pygments_lexer": "ipython3",
   "version": "3.11.4"
  }
 },
 "nbformat": 4,
 "nbformat_minor": 5
}
